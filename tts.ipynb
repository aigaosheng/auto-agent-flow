{
 "cells": [
  {
   "cell_type": "code",
   "execution_count": 4,
   "id": "9ca71385-ee23-4a05-a03d-8b2a24ef1cdc",
   "metadata": {},
   "outputs": [
    {
     "data": {
      "text/plain": [
       "'/home/gs/.cache/huggingface/hub/models--sesame--csm-1b/snapshots/d8622e3e950f9875853f8345deb2519a02957bcb/ckpt.pt'"
      ]
     },
     "execution_count": 4,
     "metadata": {},
     "output_type": "execute_result"
    }
   ],
   "source": [
    "%pwd\n",
    "model_path"
   ]
  },
  {
   "cell_type": "code",
   "execution_count": 1,
   "id": "bd4cc6f0-11f4-47ed-8465-b04e03ed5a0a",
   "metadata": {},
   "outputs": [
    {
     "name": "stderr",
     "output_type": "stream",
     "text": [
      "/home/gs/miniconda3/envs/autoagent/lib/python3.11/site-packages/tqdm/auto.py:21: TqdmWarning: IProgress not found. Please update jupyter and ipywidgets. See https://ipywidgets.readthedocs.io/en/stable/user_install.html\n",
      "  from .autonotebook import tqdm as notebook_tqdm\n"
     ]
    },
    {
     "name": "stdout",
     "output_type": "stream",
     "text": [
      "ckpt path or config path does not exist! Downloading the model from the Hugging Face Hub...\n"
     ]
    },
    {
     "name": "stderr",
     "output_type": "stream",
     "text": [
      "Fetching 13 files: 100%|█████████████████████| 13/13 [00:00<00:00, 58378.96it/s]\n",
      "/home/gs/miniconda3/envs/autoagent/lib/python3.11/site-packages/silentcipher/server.py:463: FutureWarning: You are using `torch.load` with `weights_only=False` (the current default value), which uses the default pickle module implicitly. It is possible to construct malicious pickle data which will execute arbitrary code during unpickling (See https://github.com/pytorch/pytorch/blob/main/SECURITY.md#untrusted-models for more details). In a future release, the default value for `weights_only` will be flipped to `True`. This limits the functions that could be executed during unpickling. Arbitrary objects will no longer be allowed to be loaded via this mode unless they are explicitly allowlisted by the user via `torch.serialization.add_safe_globals`. We recommend you start setting `weights_only=True` for any use case where you don't have full control of the loaded file. Please open an issue on GitHub for any issues related to this experimental feature.\n",
      "  self.enc_c.load_state_dict(self.convert_dataparallel_to_normal(torch.load(os.path.join(ckpt_dir, \"enc_c.ckpt\"), map_location=self.device)))\n",
      "/home/gs/miniconda3/envs/autoagent/lib/python3.11/site-packages/silentcipher/server.py:464: FutureWarning: You are using `torch.load` with `weights_only=False` (the current default value), which uses the default pickle module implicitly. It is possible to construct malicious pickle data which will execute arbitrary code during unpickling (See https://github.com/pytorch/pytorch/blob/main/SECURITY.md#untrusted-models for more details). In a future release, the default value for `weights_only` will be flipped to `True`. This limits the functions that could be executed during unpickling. Arbitrary objects will no longer be allowed to be loaded via this mode unless they are explicitly allowlisted by the user via `torch.serialization.add_safe_globals`. We recommend you start setting `weights_only=True` for any use case where you don't have full control of the loaded file. Please open an issue on GitHub for any issues related to this experimental feature.\n",
      "  self.dec_c.load_state_dict(self.convert_dataparallel_to_normal(torch.load(os.path.join(ckpt_dir, \"dec_c.ckpt\"), map_location=self.device)))\n",
      "/home/gs/miniconda3/envs/autoagent/lib/python3.11/site-packages/silentcipher/server.py:466: FutureWarning: You are using `torch.load` with `weights_only=False` (the current default value), which uses the default pickle module implicitly. It is possible to construct malicious pickle data which will execute arbitrary code during unpickling (See https://github.com/pytorch/pytorch/blob/main/SECURITY.md#untrusted-models for more details). In a future release, the default value for `weights_only` will be flipped to `True`. This limits the functions that could be executed during unpickling. Arbitrary objects will no longer be allowed to be loaded via this mode unless they are explicitly allowlisted by the user via `torch.serialization.add_safe_globals`. We recommend you start setting `weights_only=True` for any use case where you don't have full control of the loaded file. Please open an issue on GitHub for any issues related to this experimental feature.\n",
      "  m.load_state_dict(self.convert_dataparallel_to_normal(torch.load(os.path.join(ckpt_dir, f\"dec_m_{i}.ckpt\"), map_location=self.device)))\n"
     ]
    }
   ],
   "source": [
    "from huggingface_hub import hf_hub_download\n",
    "from csm.generators import load_csm_1b\n",
    "import torchaudio\n",
    "\n",
    "model_path = hf_hub_download(repo_id=\"sesame/csm-1b\", filename=\"ckpt.pt\")\n",
    "# model_path = '~/Downloads/ckpt.pt'\n",
    "generator = load_csm_1b(model_path, \"cuda\")\n",
    "audio = generator.generate(\n",
    "    text=\"总理兼财政部长黄循财星期天（3月16日）上午，首次以总理身份走访盛港\",\n",
    "    #，出席盛港西体育与家庭嘉年华会。他说，政府了解居民关心生活费的问题，也明白在新加坡养儿育女及年轻父母，须为许多事操心。\",\n",
    "    speaker=0,\n",
    "    context=[],\n",
    "    max_audio_length_ms=10_000,\n",
    ")\n",
    "\n",
    "torchaudio.save(\"audio.wav\", audio.unsqueeze(0).cpu(), generator.sample_rate)\n"
   ]
  }
 ],
 "metadata": {
  "kernelspec": {
   "display_name": "Python 3 (ipykernel)",
   "language": "python",
   "name": "python3"
  },
  "language_info": {
   "codemirror_mode": {
    "name": "ipython",
    "version": 3
   },
   "file_extension": ".py",
   "mimetype": "text/x-python",
   "name": "python",
   "nbconvert_exporter": "python",
   "pygments_lexer": "ipython3",
   "version": "3.11.11"
  }
 },
 "nbformat": 4,
 "nbformat_minor": 5
}
